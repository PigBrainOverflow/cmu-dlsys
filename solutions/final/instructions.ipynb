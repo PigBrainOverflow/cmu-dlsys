{
 "cells": [
  {
   "cell_type": "markdown",
   "metadata": {},
   "source": [
    "# Suggestions\n",
    "\n",
    "The following are suggestions for project ideas. You’re welcome to look into these, of course, but we encourage you to think about topics that excite you, and to work on these, rather than just picking solely from the list below. Hopefully, however, these give you some sense of the expected scope of the project.\n",
    "\n",
    "1. Autodiff support for linear algebra operators like inverses, eigenvalue decompositions, etc, and an illustration of its use within an architecture.\n",
    "2. Autodiff support for Fourier Transforms, with possible applications to convolutional networks.\n",
    "3. Autodiff support for other classes of implicit layers beyond the equilibriums models describerd in class, like those used in Neural ODEs.\n",
    "4. Adding support for sparse matrices/vectors + autodiff, with application e.g. to graph neural networks.\n",
    "5. Adding acceleration backends for your favorite accelerators, such as an Apple M1 hardware, AMD GPUs via ROCm.\n",
    "6. Any work in advantaged compilation / hardware optimization of networks, such as fusing operators in computational graphs, etc."
   ]
  }
 ],
 "metadata": {
  "language_info": {
   "name": "python"
  }
 },
 "nbformat": 4,
 "nbformat_minor": 2
}
