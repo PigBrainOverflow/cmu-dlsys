{
 "cells": [
  {
   "cell_type": "markdown",
   "metadata": {},
   "source": [
    "## SIMPLE NEEDLE\n",
    "### NEcessary Elements for Deep LEarning\n",
    "provides\n",
    "1. CPU backend: `numpy` & GPU backend: `CUDA`\n",
    "2. Auto Differentiation\n",
    "3. Initializers & Optimizers"
   ]
  },
  {
   "cell_type": "code",
   "execution_count": 2,
   "metadata": {},
   "outputs": [
    {
     "data": {
      "text/plain": [
       "needle.Tensor([[[0. 0. 0. 0. 1.]\n",
       "  [1. 1. 0. 1. 1.]\n",
       "  [0. 0. 0. 1. 1.]\n",
       "  [0. 1. 1. 0. 0.]]\n",
       "\n",
       " [[1. 1. 0. 0. 0.]\n",
       "  [1. 1. 0. 0. 1.]\n",
       "  [1. 1. 1. 0. 0.]\n",
       "  [1. 0. 0. 1. 0.]]\n",
       "\n",
       " [[1. 1. 1. 1. 1.]\n",
       "  [1. 1. 0. 0. 1.]\n",
       "  [0. 0. 1. 0. 0.]\n",
       "  [1. 1. 0. 1. 1.]]])"
      ]
     },
     "execution_count": 2,
     "metadata": {},
     "output_type": "execute_result"
    }
   ],
   "source": [
    "import numpy as np\n",
    "import python.needle as ndl\n",
    "\n",
    "x = ndl.initializer.rand_binary((3, 4, 5))\n",
    "x"
   ]
  },
  {
   "cell_type": "code",
   "execution_count": 8,
   "metadata": {},
   "outputs": [
    {
     "name": "stdout",
     "output_type": "stream",
     "text": [
      "<__main__.A object at 0x000001F58DEC0CD0>\n"
     ]
    }
   ],
   "source": [
    "class A:\n",
    "    def __init__(self, data):\n",
    "        self.data = data\n",
    "\n",
    "class B(A):\n",
    "    pass\n",
    "\n",
    "a = A(10)\n",
    "b = B(a)\n",
    "print(b.data)"
   ]
  },
  {
   "cell_type": "code",
   "execution_count": null,
   "metadata": {},
   "outputs": [],
   "source": [
    "import torch\n",
    "import torch.nn as nn\n",
    "\n",
    "a = torch.Tensor([[1, 2], [3, 4]])"
   ]
  },
  {
   "cell_type": "code",
   "execution_count": 2,
   "metadata": {},
   "outputs": [
    {
     "data": {
      "text/plain": [
       "<memory at 0x000002185E350860>"
      ]
     },
     "execution_count": 2,
     "metadata": {},
     "output_type": "execute_result"
    }
   ],
   "source": [
    "import numpy as np\n",
    "\n",
    "x = np.array([[1, 2, 3], [3, 4, 5]], dtype=np.float32)\n",
    "y = np.empty((2, 1))\n",
    "\n",
    "old = (0, 1)\n",
    "old = None\n",
    "new = tuple(np.argsort(old))\n",
    "# origin = [old[i] for i in new]\n",
    "# origin\n",
    "x = x > 2\n",
    "\n",
    "x.data"
   ]
  }
 ],
 "metadata": {
  "kernelspec": {
   "display_name": "pytorch",
   "language": "python",
   "name": "python3"
  },
  "language_info": {
   "codemirror_mode": {
    "name": "ipython",
    "version": 3
   },
   "file_extension": ".py",
   "mimetype": "text/x-python",
   "name": "python",
   "nbconvert_exporter": "python",
   "pygments_lexer": "ipython3",
   "version": "undefined.undefined.undefined"
  }
 },
 "nbformat": 4,
 "nbformat_minor": 2
}
